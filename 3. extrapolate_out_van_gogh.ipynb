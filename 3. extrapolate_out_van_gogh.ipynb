{
 "cells": [
  {
   "cell_type": "code",
   "execution_count": 354,
   "id": "de60b96c-ae64-45a8-adad-a37ee872073e",
   "metadata": {},
   "outputs": [],
   "source": [
    "import pickle\n",
    "import numpy as np\n",
    "import torch\n",
    "from sklearn import linear_model\n",
    "import torch\n",
    "import torch.nn as nn\n",
    "import matplotlib.pyplot as plt\n",
    "from PIL import Image"
   ]
  },
  {
   "cell_type": "code",
   "execution_count": null,
   "id": "b70823d6-ee89-4bf4-8895-097e49b4027a",
   "metadata": {},
   "outputs": [],
   "source": [
    "def get_default_device():\n",
    "    \"\"\"Pick GPU if available, else CPU\"\"\"\n",
    "    if torch.cuda.is_available():\n",
    "        return torch.device('cuda')\n",
    "    else:\n",
    "        return torch.device('cpu')\n",
    "    \n",
    "def denorm(img_tensors):\n",
    "    return img_tensors * stats[1][0] + stats[0][0]\n",
    "\n",
    "image_size = 64\n",
    "batch_size = 128\n",
    "stats = (0.5, 0.5, 0.5), (0.5, 0.5, 0.5)"
   ]
  },
  {
   "cell_type": "code",
   "execution_count": 355,
   "id": "62b334bd-e493-47fc-ac62-ad933c3328a3",
   "metadata": {},
   "outputs": [],
   "source": [
    "with open('painting_code_dictionary.pkl', 'rb') as f:\n",
    "    painting_code_dictionary = pickle.load(f)"
   ]
  },
  {
   "cell_type": "code",
   "execution_count": null,
   "id": "004235c9-01d3-4b6e-98ca-d0d0941772aa",
   "metadata": {},
   "outputs": [],
   "source": [
    "years = code_dictionary.keys()\n",
    "\n",
    "labels = []\n",
    "codes = np.zeros((1, 128))\n",
    "\n",
    "for year in list(years):\n",
    "    \n",
    "    painting_indexes = painting_code_dictionary[year].keys()\n",
    "    \n",
    "    for painting_index in list(painting_indexes):\n",
    "        \n",
    "        code = painting_code_dictionary[year][painting_index].detach().numpy()\n",
    "        \n",
    "        code = code.reshape(1, 128)\n",
    "\n",
    "        labels.append(int(year))\n",
    "        \n",
    "        codes = np.concatenate((codes, code), axis = 0)\n",
    "        \n",
    "codes = codes[0:codes.shape[0] - 1, :]\n",
    "\n",
    "labels = np.array(labels)"
   ]
  },
  {
   "cell_type": "code",
   "execution_count": 357,
   "id": "7461f561-63c5-4ed2-9ff6-0ae1579201fa",
   "metadata": {},
   "outputs": [],
   "source": [
    "coefficients = []\n",
    "intercepts = []\n",
    "\n",
    "for unit in range(128):\n",
    "\n",
    "    unit_activations = codes[:, unit]\n",
    "\n",
    "    regr = linear_model.LinearRegression()\n",
    "\n",
    "    regr.fit(labels.reshape(-1, 1), unit_activations)\n",
    "    \n",
    "    coefficient = regr.coef_\n",
    "    intercept = regr.intercept_\n",
    "    \n",
    "    coefficients.append(coefficient[0])\n",
    "    intercepts.append(intercept)\n",
    "    "
   ]
  },
  {
   "cell_type": "code",
   "execution_count": 358,
   "id": "727e546f-6c0b-43ca-b2c5-f0219bb05f26",
   "metadata": {},
   "outputs": [],
   "source": [
    "predicted_codes = np.zeros((1, 128))\n",
    "\n",
    "for year in range(1850, 1950):\n",
    "    \n",
    "    coefficient_term = [coefficient * year for coefficient in coefficients]\n",
    "    intercept_term = intercepts\n",
    "    \n",
    "    code = np.array(coefficient_term) + np.array(intercept_term)\n",
    "    \n",
    "    predicted_codes = np.concatenate((codes, code.reshape(1, -1)), axis = 0)"
   ]
  },
  {
   "cell_type": "code",
   "execution_count": 360,
   "id": "e396e40b-2c10-4a04-b282-6165e2c6ceb3",
   "metadata": {},
   "outputs": [],
   "source": [
    "device = get_default_device()\n",
    "device\n",
    "\n",
    "latent_size = 128\n",
    "\n",
    "generator = nn.Sequential(\n",
    "    # in: latent_size x 1 x 1\n",
    "\n",
    "    nn.ConvTranspose2d(latent_size, 512, kernel_size=4, stride=1, padding=0, bias=False),\n",
    "    nn.BatchNorm2d(512),\n",
    "    nn.ReLU(True),\n",
    "    # out: 512 x 4 x 4\n",
    "\n",
    "    nn.ConvTranspose2d(512, 256, kernel_size=4, stride=2, padding=1, bias=False),\n",
    "    nn.BatchNorm2d(256),\n",
    "    nn.ReLU(True),\n",
    "    # out: 256 x 8 x 8\n",
    "\n",
    "    nn.ConvTranspose2d(256, 128, kernel_size=4, stride=2, padding=1, bias=False),\n",
    "    nn.BatchNorm2d(128),\n",
    "    nn.ReLU(True),\n",
    "    # out: 128 x 16 x 16\n",
    "\n",
    "    nn.ConvTranspose2d(128, 64, kernel_size=4, stride=2, padding=1, bias=False),\n",
    "    nn.BatchNorm2d(64),\n",
    "    nn.ReLU(True),\n",
    "    # out: 64 x 32 x 32\n",
    "\n",
    "    nn.ConvTranspose2d(64, 3, kernel_size=4, stride=2, padding=1, bias=False),\n",
    "    nn.Tanh()\n",
    "    # out: 3 x 64 x 64\n",
    ")"
   ]
  },
  {
   "cell_type": "code",
   "execution_count": 361,
   "id": "dcd8cd13-e5eb-402d-b175-5e0283565d3b",
   "metadata": {},
   "outputs": [
    {
     "data": {
      "text/plain": [
       "<All keys matched successfully>"
      ]
     },
     "execution_count": 361,
     "metadata": {},
     "output_type": "execute_result"
    }
   ],
   "source": [
    "generator.load_state_dict(torch.load('trained_generator.pth'))"
   ]
  },
  {
   "cell_type": "code",
   "execution_count": 363,
   "id": "f50d798b-b220-40c8-a243-81c0fb796e4c",
   "metadata": {},
   "outputs": [],
   "source": [
    "images = []\n",
    "\n",
    "for year in range(101):\n",
    "    \n",
    "    code = predicted_codes[year, :]\n",
    "    tensor_code = torch.from_numpy(code)\n",
    "    tensor_code = torch.reshape(tensor_code, (1, 128, 1, 1))\n",
    "\n",
    "    fake_image = generator(tensor_code.float())\n",
    "    numpy_image = np.squeeze(fake_image.detach().numpy())\n",
    "    transposed_image = np.transpose(numpy_image, (1, 2, 0))\n",
    "    denormed_image = denorm(transposed_image)\n",
    "    \n",
    "    denormed_image = denormed_image * 255\n",
    "    denormed_image = denormed_image.astype(np.uint8)\n",
    "    images.append(Image.fromarray(denormed_image))\n",
    "\n",
    "img = images[0]  # extract first image from iterator\n",
    "img.save(fp=fp_out, format='GIF', append_images=images,\n",
    "         save_all=True, duration=50, loop=0)"
   ]
  }
 ],
 "metadata": {
  "kernelspec": {
   "display_name": "Python 3 (ipykernel)",
   "language": "python",
   "name": "python3"
  },
  "language_info": {
   "codemirror_mode": {
    "name": "ipython",
    "version": 3
   },
   "file_extension": ".py",
   "mimetype": "text/x-python",
   "name": "python",
   "nbconvert_exporter": "python",
   "pygments_lexer": "ipython3",
   "version": "3.9.7"
  }
 },
 "nbformat": 4,
 "nbformat_minor": 5
}
